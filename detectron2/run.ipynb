{
 "cells": [
  {
   "cell_type": "code",
   "execution_count": 6,
   "id": "01352b7b",
   "metadata": {},
   "outputs": [
    {
     "name": "stdout",
     "output_type": "stream",
     "text": [
      "\u001b[32m[04/04 00:48:27 detectron2]: \u001b[0mArguments: Namespace(confidence_threshold=0.5, config_file='configs/COCO-InstanceSegmentation/mask_rcnn_R_50_FPN_3x.yaml', input=None, opts=['MODEL.WEIGHTS', 'detectron2://COCO-InstanceSegmentation/mask_rcnn_R_50_FPN_3x/137849600/model_final_f10217.pkl'], output='output', video_input='input/Ibiza_Trim.mp4', webcam=False)\n",
      "\u001b[32m[04/04 00:48:30 fvcore.common.checkpoint]: \u001b[0m[Checkpointer] Loading from detectron2://COCO-InstanceSegmentation/mask_rcnn_R_50_FPN_3x/137849600/model_final_f10217.pkl ...\n",
      "\u001b[32m[04/04 00:48:30 fvcore.common.checkpoint]: \u001b[0mReading a file from 'Detectron2 Model Zoo'\n",
      "[ERROR:0@4.907] global /io/opencv/modules/videoio/src/cap_ffmpeg_impl.hpp (2767) open Could not find encoder for codec_id=27, error: Encoder not found\n",
      "[ERROR:0@4.907] global /io/opencv/modules/videoio/src/cap_ffmpeg_impl.hpp (2839) open VIDEOIO/FFMPEG: Failed to initialize VideoWriter\n",
      "[ERROR:0@4.907] global /io/opencv/modules/videoio/src/cap.cpp (595) open VIDEOIO(CV_IMAGES): raised OpenCV exception:\n",
      "\n",
      "OpenCV(4.5.5) /io/opencv/modules/videoio/src/cap_images.cpp:253: error: (-5:Bad argument) CAP_IMAGES: can't find starting number (in the name of file): /tmp/video_format_testkqjj2u0c/test_file.mkv in function 'icvExtractPattern'\n",
      "\n",
      "\n",
      "100%|█████████████████████████████████████████| 678/678 [05:27<00:00,  2.07it/s]\n"
     ]
    }
   ],
   "source": [
    "# 220404 테스트 - 동영상\n",
    "\n",
    "!CUDA_VISIBLE_DEVICES=0 python demo/demo.py --config-file configs/COCO-InstanceSegmentation/mask_rcnn_R_50_FPN_3x.yaml \\\n",
    "--video-input input/Ibiza_Trim.mp4 \\\n",
    "--output output \\\n",
    "--opts MODEL.WEIGHTS detectron2://COCO-InstanceSegmentation/mask_rcnn_R_50_FPN_3x/137849600/model_final_f10217.pkl"
   ]
  },
  {
   "cell_type": "code",
   "execution_count": 3,
   "id": "35b44c29",
   "metadata": {},
   "outputs": [
    {
     "name": "stdout",
     "output_type": "stream",
     "text": [
      "\u001b[32m[04/04 00:35:32 detectron2]: \u001b[0mArguments: Namespace(confidence_threshold=0.5, config_file='configs/COCO-InstanceSegmentation/mask_rcnn_R_50_FPN_3x.yaml', input=['input/test1.jpg', 'input/test2.jpg', 'input/test3.jpg', 'input/test4.jpg'], opts=['MODEL.WEIGHTS', 'detectron2://COCO-InstanceSegmentation/mask_rcnn_R_50_FPN_3x/137849600/model_final_f10217.pkl'], output='output', video_input=None, webcam=False)\n",
      "\u001b[32m[04/04 00:35:37 fvcore.common.checkpoint]: \u001b[0m[Checkpointer] Loading from detectron2://COCO-InstanceSegmentation/mask_rcnn_R_50_FPN_3x/137849600/model_final_f10217.pkl ...\n",
      "model_final_f10217.pkl: 178MB [00:24, 7.13MB/s]                                 \n",
      "\u001b[32m[04/04 00:36:02 fvcore.common.checkpoint]: \u001b[0mReading a file from 'Detectron2 Model Zoo'\n",
      "  0%|                                                     | 0/4 [00:00<?, ?it/s]\u001b[32m[04/04 00:36:02 detectron2]: \u001b[0minput/test1.jpg: detected 31 instances in 0.40s\n",
      " 25%|███████████▎                                 | 1/4 [00:00<00:01,  1.64it/s]\u001b[32m[04/04 00:36:03 detectron2]: \u001b[0minput/test2.jpg: detected 51 instances in 0.26s\n",
      " 50%|██████████████████████▌                      | 2/4 [00:01<00:01,  1.90it/s]\u001b[32m[04/04 00:36:03 detectron2]: \u001b[0minput/test3.jpg: detected 6 instances in 0.10s\n",
      " 75%|█████████████████████████████████▊           | 3/4 [00:01<00:00,  2.85it/s]\u001b[32m[04/04 00:36:03 detectron2]: \u001b[0minput/test4.jpg: detected 8 instances in 0.18s\n",
      "100%|█████████████████████████████████████████████| 4/4 [00:01<00:00,  2.75it/s]\n"
     ]
    }
   ],
   "source": [
    "# 220404 테스트 - 일반 이미지\n",
    "\n",
    "!CUDA_VISIBLE_DEVICES=0 python demo/demo.py --config-file configs/COCO-InstanceSegmentation/mask_rcnn_R_50_FPN_3x.yaml \\\n",
    "--input input/test1.jpg input/test2.jpg input/test3.jpg input/test4.jpg \\\n",
    "--output output \\\n",
    "--opts MODEL.WEIGHTS detectron2://COCO-InstanceSegmentation/mask_rcnn_R_50_FPN_3x/137849600/model_final_f10217.pkl"
   ]
  },
  {
   "cell_type": "code",
   "execution_count": 3,
   "id": "da07709a",
   "metadata": {},
   "outputs": [
    {
     "name": "stdout",
     "output_type": "stream",
     "text": [
      "\u001b[32m[03/31 22:26:12 detectron2]: \u001b[0mArguments: Namespace(confidence_threshold=0.5, config_file='configs/TableBank.yaml', input=['input/0006.jpg', 'input/0009.jpg', 'input/0010.jpg', 'input/0018.jpg', 'input/POD_0003.jpg', 'input/POD_0011.jpg', 'input/POD_0013.jpg', 'input/POD_0017.jpg', 'input/S0007.jpg'], opts=['MODEL.WEIGHTS', 'model/model_final.pth'], output='output', video_input=None, webcam=False)\n",
      "\u001b[32m[03/31 22:26:17 fvcore.common.checkpoint]: \u001b[0m[Checkpointer] Loading from model/model_final.pth ...\n",
      "\u001b[5m\u001b[31mWARNING\u001b[0m \u001b[32m[03/31 22:26:18 fvcore.common.checkpoint]: \u001b[0mThe checkpoint state_dict contains keys that are not used by the model:\n",
      "  \u001b[35mpixel_mean\u001b[0m\n",
      "  \u001b[35mpixel_std\u001b[0m\n",
      "  0%|                                                     | 0/9 [00:00<?, ?it/s]\u001b[32m[03/31 22:26:19 detectron2]: \u001b[0minput/0006.jpg: detected 1 instances in 0.65s\n",
      " 11%|█████                                        | 1/9 [00:01<00:11,  1.47s/it]\u001b[32m[03/31 22:26:20 detectron2]: \u001b[0minput/0009.jpg: detected 1 instances in 0.57s\n",
      " 22%|██████████                                   | 2/9 [00:02<00:09,  1.36s/it]\u001b[32m[03/31 22:26:21 detectron2]: \u001b[0minput/0010.jpg: detected 2 instances in 0.55s\n",
      " 33%|███████████████                              | 3/9 [00:04<00:07,  1.32s/it]\u001b[32m[03/31 22:26:22 detectron2]: \u001b[0minput/0018.jpg: detected 4 instances in 0.59s\n",
      " 44%|████████████████████                         | 4/9 [00:05<00:06,  1.32s/it]\u001b[32m[03/31 22:26:23 detectron2]: \u001b[0minput/POD_0003.jpg: detected 2 instances in 0.27s\n",
      " 56%|█████████████████████████                    | 5/9 [00:05<00:03,  1.01it/s]\u001b[32m[03/31 22:26:24 detectron2]: \u001b[0minput/POD_0011.jpg: detected 1 instances in 0.28s\n",
      " 67%|██████████████████████████████               | 6/9 [00:06<00:02,  1.28it/s]\u001b[32m[03/31 22:26:24 detectron2]: \u001b[0minput/POD_0013.jpg: detected 0 instances in 0.26s\n",
      " 78%|███████████████████████████████████          | 7/9 [00:06<00:01,  1.54it/s]\u001b[32m[03/31 22:26:25 detectron2]: \u001b[0minput/POD_0017.jpg: detected 1 instances in 0.28s\n",
      " 89%|████████████████████████████████████████     | 8/9 [00:06<00:00,  1.77it/s]\u001b[32m[03/31 22:26:25 detectron2]: \u001b[0minput/S0007.jpg: detected 3 instances in 0.37s\n",
      "100%|█████████████████████████████████████████████| 9/9 [00:07<00:00,  1.21it/s]\n"
     ]
    }
   ],
   "source": [
    "!CUDA_VISIBLE_DEVICES=0 python demo/demo.py \\\n",
    "--config-file configs/TableBank.yaml \\\n",
    "--input input/0006.jpg input/0009.jpg input/0010.jpg input/0018.jpg \\\n",
    "  input/POD_0003.jpg input/POD_0011.jpg input/POD_0013.jpg input/POD_0017.jpg \\\n",
    "  input/S0007.jpg \\\n",
    "--output output \\\n",
    "--opts MODEL.WEIGHTS model/model_final.pth"
   ]
  },
  {
   "cell_type": "code",
   "execution_count": 7,
   "id": "d4a655fe",
   "metadata": {},
   "outputs": [
    {
     "name": "stdout",
     "output_type": "stream",
     "text": [
      "Thu Mar 31 22:21:35 2022       \n",
      "+-----------------------------------------------------------------------------+\n",
      "| NVIDIA-SMI 470.94       Driver Version: 470.94       CUDA Version: 11.4     |\n",
      "|-------------------------------+----------------------+----------------------+\n",
      "| GPU  Name        Persistence-M| Bus-Id        Disp.A | Volatile Uncorr. ECC |\n",
      "| Fan  Temp  Perf  Pwr:Usage/Cap|         Memory-Usage | GPU-Util  Compute M. |\n",
      "|                               |                      |               MIG M. |\n",
      "|===============================+======================+======================|\n",
      "|   0  NVIDIA GeForce ...  Off  | 00000000:03:00.0 Off |                  N/A |\n",
      "| 23%   36C    P8    10W / 250W |     19MiB / 11176MiB |      0%      Default |\n",
      "|                               |                      |                  N/A |\n",
      "+-------------------------------+----------------------+----------------------+\n",
      "|   1  NVIDIA GeForce ...  Off  | 00000000:04:00.0 Off |                  N/A |\n",
      "| 23%   28C    P8     8W / 250W |      2MiB / 11178MiB |      0%      Default |\n",
      "|                               |                      |                  N/A |\n",
      "+-------------------------------+----------------------+----------------------+\n",
      "|   2  NVIDIA GeForce ...  Off  | 00000000:81:00.0 Off |                  N/A |\n",
      "| 23%   26C    P8     8W / 250W |      2MiB / 11178MiB |      0%      Default |\n",
      "|                               |                      |                  N/A |\n",
      "+-------------------------------+----------------------+----------------------+\n",
      "|   3  NVIDIA GeForce ...  Off  | 00000000:82:00.0 Off |                  N/A |\n",
      "| 23%   24C    P8     9W / 250W |      2MiB / 11178MiB |      0%      Default |\n",
      "|                               |                      |                  N/A |\n",
      "+-------------------------------+----------------------+----------------------+\n",
      "                                                                               \n",
      "+-----------------------------------------------------------------------------+\n",
      "| Processes:                                                                  |\n",
      "|  GPU   GI   CI        PID   Type   Process name                  GPU Memory |\n",
      "|        ID   ID                                                   Usage      |\n",
      "|=============================================================================|\n",
      "|    0   N/A  N/A      1476      G   /usr/lib/xorg/Xorg                 16MiB |\n",
      "+-----------------------------------------------------------------------------+\n"
     ]
    }
   ],
   "source": [
    "!nvidia-smi"
   ]
  }
 ],
 "metadata": {
  "kernelspec": {
   "display_name": "Python [conda env:dtr] *",
   "language": "python",
   "name": "conda-env-dtr-py"
  },
  "language_info": {
   "codemirror_mode": {
    "name": "ipython",
    "version": 3
   },
   "file_extension": ".py",
   "mimetype": "text/x-python",
   "name": "python",
   "nbconvert_exporter": "python",
   "pygments_lexer": "ipython3",
   "version": "3.8.13"
  }
 },
 "nbformat": 4,
 "nbformat_minor": 5
}
